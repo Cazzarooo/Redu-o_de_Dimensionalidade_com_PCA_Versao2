{
  "nbformat": 4,
  "nbformat_minor": 0,
  "metadata": {
    "colab": {
      "provenance": []
    },
    "kernelspec": {
      "name": "python3",
      "display_name": "Python 3"
    },
    "language_info": {
      "name": "python"
    }
  },
  "cells": [
    {
      "cell_type": "markdown",
      "metadata": {
        "id": "b0PwlVawUlYk"
      },
      "source": [
        "## APRENDIZADO DE MÁQUINA NÃO SUPERVISIONADO:\n",
        "\n",
        "## Redução de dimensionalidade utilizando o algoritmo PCA (Principal Componentes Analysis)\n",
        "\n",
        "O PCA é um dos principais algoritmos de aprendizagem de máquina não supervisionada.\n",
        "\n",
        "Ele identifica a correlação entre variáveis e, caso haja forte correlação entre elas, decide que é possível reduzir a dimensionalidade dos dados.\n",
        "\n",
        "Supondo um número m de variáveis, o PCA extrai um novo número p <= m que explica a melhor variação na base de dados, excluindo a variável dependente y. Tal número m é escolhido pelo projetista.\n"
      ]
    },
    {
      "cell_type": "markdown",
      "source": [
        "# Parte 1: Importação de bibliotecas"
      ],
      "metadata": {
        "id": "5y3z-B4i6WkO"
      }
    },
    {
      "cell_type": "code",
      "source": [
        "import pandas as pd\n",
        "\n",
        "# Conversão de dados categóricos em numéricos:\n",
        "from sklearn.preprocessing import LabelEncoder\n",
        "# https://scikit-learn.org/stable/modules/generated/sklearn.preprocessing.LabelEncoder.html\n",
        "# Sugestão de leitura: Como fazer LabelEncoder em um DataFrame — Python/SKLearn\n",
        "# https://gianmedeirao.medium.com/como-fazer-labelencoder-em-um-dataframe-python-sklearn-655ba2c6ae7e\n",
        "\n",
        "# Normalização dos dados\n",
        "from sklearn.preprocessing import StandardScaler\n",
        "# https://scikit-learn.org/stable/modules/generated/sklearn.preprocessing.StandardScaler.html\n",
        "# Sugestão de leitura: How to Use StandardScaler and MinMaxScaler Transforms in Python:\n",
        "# https://machinelearningmastery.com/standardscaler-and-minmaxscaler-transforms-in-python/\n",
        "# https://www.hashtagtreinamentos.com/padronizacao-e-normalizacao-em-ciencia-de-dados\n",
        "\n",
        "from sklearn.model_selection import train_test_split\n",
        "# https://scikit-learn.org/stable/modules/generated/sklearn.model_selection.train_test_split.html\n",
        "# Sugestão de leitura:\n",
        "# https://www.geeksforgeeks.org/how-to-do-train-test-split-using-sklearn-in-python/\n",
        "\n",
        "from sklearn.decomposition import PCA\n",
        "# https://scikit-learn.org/stable/modules/generated/sklearn.decomposition.PCA.html\n",
        "\n",
        "# Classificador Random Forest\n",
        "from sklearn.ensemble import RandomForestClassifier\n",
        "# https://scikit-learn.org/stable/modules/generated/sklearn.ensemble.RandomForestClassifier.html\n",
        "\n",
        "# Pacote para cálculo da acurácia do modelo de classificação:\n",
        "from sklearn.metrics import accuracy_score\n",
        "# https://scikit-learn.org/stable/modules/generated/sklearn.metrics.accuracy_score.html"
      ],
      "metadata": {
        "id": "eXftjh2BfSm_"
      },
      "execution_count": null,
      "outputs": []
    },
    {
      "cell_type": "markdown",
      "metadata": {
        "id": "5B4KH9_YVrmQ"
      },
      "source": [
        "# Parte 2: Preparação dos dados\n",
        "\n",
        "O conjunto de dados modificado \"census.csv\" consiste em aproximadamente 32.000 registros de dados, com cada registro de dados tendo 13 características.\n",
        "\n",
        "https://archive.ics.uci.edu/dataset/20/census+income\n",
        "\n",
        "Este conjunto de dados é uma versão modificada do conjunto de dados publicado no artigo \"*Scaling Up the Accuracy of Naive-Bayes Classifiers: a Decision-Tree Hybrid*\", de Ron Kohavi.\n",
        "\n",
        "Artigo:\n",
        "\n",
        "https://aaai.org/papers/033-scaling-up-the-accuracy-of-naive-bayes-classifiers-a-decision-tree-hybrid/\n"
      ]
    },
    {
      "cell_type": "code",
      "execution_count": null,
      "metadata": {
        "id": "DsluTWi5V_FP",
        "colab": {
          "base_uri": "https://localhost:8080/",
          "height": 206
        },
        "outputId": "19e1d05d-ed1b-4020-97ca-d56c689cfc1a"
      },
      "outputs": [
        {
          "output_type": "execute_result",
          "data": {
            "text/plain": [
              "   CustomerID   Genre  Age  Annual Income (k$)  Spending Score (1-100)\n",
              "0           1    Male   19                  15                      39\n",
              "1           2    Male   21                  15                      81\n",
              "2           3  Female   20                  16                       6\n",
              "3           4  Female   23                  16                      77\n",
              "4           5  Female   31                  17                      40"
            ],
            "text/html": [
              "\n",
              "  <div id=\"df-df7c7658-6ce9-4f7f-84f0-a0fa23a12aa3\" class=\"colab-df-container\">\n",
              "    <div>\n",
              "<style scoped>\n",
              "    .dataframe tbody tr th:only-of-type {\n",
              "        vertical-align: middle;\n",
              "    }\n",
              "\n",
              "    .dataframe tbody tr th {\n",
              "        vertical-align: top;\n",
              "    }\n",
              "\n",
              "    .dataframe thead th {\n",
              "        text-align: right;\n",
              "    }\n",
              "</style>\n",
              "<table border=\"1\" class=\"dataframe\">\n",
              "  <thead>\n",
              "    <tr style=\"text-align: right;\">\n",
              "      <th></th>\n",
              "      <th>CustomerID</th>\n",
              "      <th>Genre</th>\n",
              "      <th>Age</th>\n",
              "      <th>Annual Income (k$)</th>\n",
              "      <th>Spending Score (1-100)</th>\n",
              "    </tr>\n",
              "  </thead>\n",
              "  <tbody>\n",
              "    <tr>\n",
              "      <th>0</th>\n",
              "      <td>1</td>\n",
              "      <td>Male</td>\n",
              "      <td>19</td>\n",
              "      <td>15</td>\n",
              "      <td>39</td>\n",
              "    </tr>\n",
              "    <tr>\n",
              "      <th>1</th>\n",
              "      <td>2</td>\n",
              "      <td>Male</td>\n",
              "      <td>21</td>\n",
              "      <td>15</td>\n",
              "      <td>81</td>\n",
              "    </tr>\n",
              "    <tr>\n",
              "      <th>2</th>\n",
              "      <td>3</td>\n",
              "      <td>Female</td>\n",
              "      <td>20</td>\n",
              "      <td>16</td>\n",
              "      <td>6</td>\n",
              "    </tr>\n",
              "    <tr>\n",
              "      <th>3</th>\n",
              "      <td>4</td>\n",
              "      <td>Female</td>\n",
              "      <td>23</td>\n",
              "      <td>16</td>\n",
              "      <td>77</td>\n",
              "    </tr>\n",
              "    <tr>\n",
              "      <th>4</th>\n",
              "      <td>5</td>\n",
              "      <td>Female</td>\n",
              "      <td>31</td>\n",
              "      <td>17</td>\n",
              "      <td>40</td>\n",
              "    </tr>\n",
              "  </tbody>\n",
              "</table>\n",
              "</div>\n",
              "    <div class=\"colab-df-buttons\">\n",
              "\n",
              "  <div class=\"colab-df-container\">\n",
              "    <button class=\"colab-df-convert\" onclick=\"convertToInteractive('df-df7c7658-6ce9-4f7f-84f0-a0fa23a12aa3')\"\n",
              "            title=\"Convert this dataframe to an interactive table.\"\n",
              "            style=\"display:none;\">\n",
              "\n",
              "  <svg xmlns=\"http://www.w3.org/2000/svg\" height=\"24px\" viewBox=\"0 -960 960 960\">\n",
              "    <path d=\"M120-120v-720h720v720H120Zm60-500h600v-160H180v160Zm220 220h160v-160H400v160Zm0 220h160v-160H400v160ZM180-400h160v-160H180v160Zm440 0h160v-160H620v160ZM180-180h160v-160H180v160Zm440 0h160v-160H620v160Z\"/>\n",
              "  </svg>\n",
              "    </button>\n",
              "\n",
              "  <style>\n",
              "    .colab-df-container {\n",
              "      display:flex;\n",
              "      gap: 12px;\n",
              "    }\n",
              "\n",
              "    .colab-df-convert {\n",
              "      background-color: #E8F0FE;\n",
              "      border: none;\n",
              "      border-radius: 50%;\n",
              "      cursor: pointer;\n",
              "      display: none;\n",
              "      fill: #1967D2;\n",
              "      height: 32px;\n",
              "      padding: 0 0 0 0;\n",
              "      width: 32px;\n",
              "    }\n",
              "\n",
              "    .colab-df-convert:hover {\n",
              "      background-color: #E2EBFA;\n",
              "      box-shadow: 0px 1px 2px rgba(60, 64, 67, 0.3), 0px 1px 3px 1px rgba(60, 64, 67, 0.15);\n",
              "      fill: #174EA6;\n",
              "    }\n",
              "\n",
              "    .colab-df-buttons div {\n",
              "      margin-bottom: 4px;\n",
              "    }\n",
              "\n",
              "    [theme=dark] .colab-df-convert {\n",
              "      background-color: #3B4455;\n",
              "      fill: #D2E3FC;\n",
              "    }\n",
              "\n",
              "    [theme=dark] .colab-df-convert:hover {\n",
              "      background-color: #434B5C;\n",
              "      box-shadow: 0px 1px 3px 1px rgba(0, 0, 0, 0.15);\n",
              "      filter: drop-shadow(0px 1px 2px rgba(0, 0, 0, 0.3));\n",
              "      fill: #FFFFFF;\n",
              "    }\n",
              "  </style>\n",
              "\n",
              "    <script>\n",
              "      const buttonEl =\n",
              "        document.querySelector('#df-df7c7658-6ce9-4f7f-84f0-a0fa23a12aa3 button.colab-df-convert');\n",
              "      buttonEl.style.display =\n",
              "        google.colab.kernel.accessAllowed ? 'block' : 'none';\n",
              "\n",
              "      async function convertToInteractive(key) {\n",
              "        const element = document.querySelector('#df-df7c7658-6ce9-4f7f-84f0-a0fa23a12aa3');\n",
              "        const dataTable =\n",
              "          await google.colab.kernel.invokeFunction('convertToInteractive',\n",
              "                                                    [key], {});\n",
              "        if (!dataTable) return;\n",
              "\n",
              "        const docLinkHtml = 'Like what you see? Visit the ' +\n",
              "          '<a target=\"_blank\" href=https://colab.research.google.com/notebooks/data_table.ipynb>data table notebook</a>'\n",
              "          + ' to learn more about interactive tables.';\n",
              "        element.innerHTML = '';\n",
              "        dataTable['output_type'] = 'display_data';\n",
              "        await google.colab.output.renderOutput(dataTable, element);\n",
              "        const docLink = document.createElement('div');\n",
              "        docLink.innerHTML = docLinkHtml;\n",
              "        element.appendChild(docLink);\n",
              "      }\n",
              "    </script>\n",
              "  </div>\n",
              "\n",
              "\n",
              "<div id=\"df-a9749e2b-cc5d-4330-b921-0016271b8cec\">\n",
              "  <button class=\"colab-df-quickchart\" onclick=\"quickchart('df-a9749e2b-cc5d-4330-b921-0016271b8cec')\"\n",
              "            title=\"Suggest charts\"\n",
              "            style=\"display:none;\">\n",
              "\n",
              "<svg xmlns=\"http://www.w3.org/2000/svg\" height=\"24px\"viewBox=\"0 0 24 24\"\n",
              "     width=\"24px\">\n",
              "    <g>\n",
              "        <path d=\"M19 3H5c-1.1 0-2 .9-2 2v14c0 1.1.9 2 2 2h14c1.1 0 2-.9 2-2V5c0-1.1-.9-2-2-2zM9 17H7v-7h2v7zm4 0h-2V7h2v10zm4 0h-2v-4h2v4z\"/>\n",
              "    </g>\n",
              "</svg>\n",
              "  </button>\n",
              "\n",
              "<style>\n",
              "  .colab-df-quickchart {\n",
              "      --bg-color: #E8F0FE;\n",
              "      --fill-color: #1967D2;\n",
              "      --hover-bg-color: #E2EBFA;\n",
              "      --hover-fill-color: #174EA6;\n",
              "      --disabled-fill-color: #AAA;\n",
              "      --disabled-bg-color: #DDD;\n",
              "  }\n",
              "\n",
              "  [theme=dark] .colab-df-quickchart {\n",
              "      --bg-color: #3B4455;\n",
              "      --fill-color: #D2E3FC;\n",
              "      --hover-bg-color: #434B5C;\n",
              "      --hover-fill-color: #FFFFFF;\n",
              "      --disabled-bg-color: #3B4455;\n",
              "      --disabled-fill-color: #666;\n",
              "  }\n",
              "\n",
              "  .colab-df-quickchart {\n",
              "    background-color: var(--bg-color);\n",
              "    border: none;\n",
              "    border-radius: 50%;\n",
              "    cursor: pointer;\n",
              "    display: none;\n",
              "    fill: var(--fill-color);\n",
              "    height: 32px;\n",
              "    padding: 0;\n",
              "    width: 32px;\n",
              "  }\n",
              "\n",
              "  .colab-df-quickchart:hover {\n",
              "    background-color: var(--hover-bg-color);\n",
              "    box-shadow: 0 1px 2px rgba(60, 64, 67, 0.3), 0 1px 3px 1px rgba(60, 64, 67, 0.15);\n",
              "    fill: var(--button-hover-fill-color);\n",
              "  }\n",
              "\n",
              "  .colab-df-quickchart-complete:disabled,\n",
              "  .colab-df-quickchart-complete:disabled:hover {\n",
              "    background-color: var(--disabled-bg-color);\n",
              "    fill: var(--disabled-fill-color);\n",
              "    box-shadow: none;\n",
              "  }\n",
              "\n",
              "  .colab-df-spinner {\n",
              "    border: 2px solid var(--fill-color);\n",
              "    border-color: transparent;\n",
              "    border-bottom-color: var(--fill-color);\n",
              "    animation:\n",
              "      spin 1s steps(1) infinite;\n",
              "  }\n",
              "\n",
              "  @keyframes spin {\n",
              "    0% {\n",
              "      border-color: transparent;\n",
              "      border-bottom-color: var(--fill-color);\n",
              "      border-left-color: var(--fill-color);\n",
              "    }\n",
              "    20% {\n",
              "      border-color: transparent;\n",
              "      border-left-color: var(--fill-color);\n",
              "      border-top-color: var(--fill-color);\n",
              "    }\n",
              "    30% {\n",
              "      border-color: transparent;\n",
              "      border-left-color: var(--fill-color);\n",
              "      border-top-color: var(--fill-color);\n",
              "      border-right-color: var(--fill-color);\n",
              "    }\n",
              "    40% {\n",
              "      border-color: transparent;\n",
              "      border-right-color: var(--fill-color);\n",
              "      border-top-color: var(--fill-color);\n",
              "    }\n",
              "    60% {\n",
              "      border-color: transparent;\n",
              "      border-right-color: var(--fill-color);\n",
              "    }\n",
              "    80% {\n",
              "      border-color: transparent;\n",
              "      border-right-color: var(--fill-color);\n",
              "      border-bottom-color: var(--fill-color);\n",
              "    }\n",
              "    90% {\n",
              "      border-color: transparent;\n",
              "      border-bottom-color: var(--fill-color);\n",
              "    }\n",
              "  }\n",
              "</style>\n",
              "\n",
              "  <script>\n",
              "    async function quickchart(key) {\n",
              "      const quickchartButtonEl =\n",
              "        document.querySelector('#' + key + ' button');\n",
              "      quickchartButtonEl.disabled = true;  // To prevent multiple clicks.\n",
              "      quickchartButtonEl.classList.add('colab-df-spinner');\n",
              "      try {\n",
              "        const charts = await google.colab.kernel.invokeFunction(\n",
              "            'suggestCharts', [key], {});\n",
              "      } catch (error) {\n",
              "        console.error('Error during call to suggestCharts:', error);\n",
              "      }\n",
              "      quickchartButtonEl.classList.remove('colab-df-spinner');\n",
              "      quickchartButtonEl.classList.add('colab-df-quickchart-complete');\n",
              "    }\n",
              "    (() => {\n",
              "      let quickchartButtonEl =\n",
              "        document.querySelector('#df-a9749e2b-cc5d-4330-b921-0016271b8cec button');\n",
              "      quickchartButtonEl.style.display =\n",
              "        google.colab.kernel.accessAllowed ? 'block' : 'none';\n",
              "    })();\n",
              "  </script>\n",
              "</div>\n",
              "\n",
              "    </div>\n",
              "  </div>\n"
            ],
            "application/vnd.google.colaboratory.intrinsic+json": {
              "type": "dataframe",
              "variable_name": "df",
              "summary": "{\n  \"name\": \"df\",\n  \"rows\": 200,\n  \"fields\": [\n    {\n      \"column\": \"CustomerID\",\n      \"properties\": {\n        \"dtype\": \"number\",\n        \"std\": 57,\n        \"min\": 1,\n        \"max\": 200,\n        \"num_unique_values\": 200,\n        \"samples\": [\n          96,\n          16,\n          31\n        ],\n        \"semantic_type\": \"\",\n        \"description\": \"\"\n      }\n    },\n    {\n      \"column\": \"Genre\",\n      \"properties\": {\n        \"dtype\": \"category\",\n        \"num_unique_values\": 2,\n        \"samples\": [\n          \"Female\",\n          \"Male\"\n        ],\n        \"semantic_type\": \"\",\n        \"description\": \"\"\n      }\n    },\n    {\n      \"column\": \"Age\",\n      \"properties\": {\n        \"dtype\": \"number\",\n        \"std\": 13,\n        \"min\": 18,\n        \"max\": 70,\n        \"num_unique_values\": 51,\n        \"samples\": [\n          55,\n          26\n        ],\n        \"semantic_type\": \"\",\n        \"description\": \"\"\n      }\n    },\n    {\n      \"column\": \"Annual Income (k$)\",\n      \"properties\": {\n        \"dtype\": \"number\",\n        \"std\": 26,\n        \"min\": 15,\n        \"max\": 137,\n        \"num_unique_values\": 64,\n        \"samples\": [\n          87,\n          101\n        ],\n        \"semantic_type\": \"\",\n        \"description\": \"\"\n      }\n    },\n    {\n      \"column\": \"Spending Score (1-100)\",\n      \"properties\": {\n        \"dtype\": \"number\",\n        \"std\": 25,\n        \"min\": 1,\n        \"max\": 99,\n        \"num_unique_values\": 84,\n        \"samples\": [\n          83,\n          39\n        ],\n        \"semantic_type\": \"\",\n        \"description\": \"\"\n      }\n    }\n  ]\n}"
            }
          },
          "metadata": {},
          "execution_count": 2
        }
      ],
      "source": [
        "# Criando um dataframe a partir do dados do arquivo\n",
        "df = pd.read_csv('/content/Mall_Customers.csv')\n",
        "df.head()"
      ]
    },
    {
      "cell_type": "code",
      "source": [
        "# Seleção de atributos (Dados de entrada)\n",
        "# Com o método .iloc selecionamos (por índice) todas as linhas,\n",
        "# e as colunas de 1 a 13 (o segundo parâmetro é excludente)\n",
        "X = df.iloc[:, 0:14].values"
      ],
      "metadata": {
        "id": "BTi4Ml0ffrNV"
      },
      "execution_count": null,
      "outputs": []
    },
    {
      "cell_type": "code",
      "source": [
        "X"
      ],
      "metadata": {
        "id": "r65JXWoI_S5K",
        "colab": {
          "base_uri": "https://localhost:8080/"
        },
        "outputId": "ba0053cb-9e5c-490f-c000-e6c723041aa9"
      },
      "execution_count": null,
      "outputs": [
        {
          "output_type": "execute_result",
          "data": {
            "text/plain": [
              "array([[1, 'Male', 19, 15, 39],\n",
              "       [2, 'Male', 21, 15, 81],\n",
              "       [3, 'Female', 20, 16, 6],\n",
              "       [4, 'Female', 23, 16, 77],\n",
              "       [5, 'Female', 31, 17, 40],\n",
              "       [6, 'Female', 22, 17, 76],\n",
              "       [7, 'Female', 35, 18, 6],\n",
              "       [8, 'Female', 23, 18, 94],\n",
              "       [9, 'Male', 64, 19, 3],\n",
              "       [10, 'Female', 30, 19, 72],\n",
              "       [11, 'Male', 67, 19, 14],\n",
              "       [12, 'Female', 35, 19, 99],\n",
              "       [13, 'Female', 58, 20, 15],\n",
              "       [14, 'Female', 24, 20, 77],\n",
              "       [15, 'Male', 37, 20, 13],\n",
              "       [16, 'Male', 22, 20, 79],\n",
              "       [17, 'Female', 35, 21, 35],\n",
              "       [18, 'Male', 20, 21, 66],\n",
              "       [19, 'Male', 52, 23, 29],\n",
              "       [20, 'Female', 35, 23, 98],\n",
              "       [21, 'Male', 35, 24, 35],\n",
              "       [22, 'Male', 25, 24, 73],\n",
              "       [23, 'Female', 46, 25, 5],\n",
              "       [24, 'Male', 31, 25, 73],\n",
              "       [25, 'Female', 54, 28, 14],\n",
              "       [26, 'Male', 29, 28, 82],\n",
              "       [27, 'Female', 45, 28, 32],\n",
              "       [28, 'Male', 35, 28, 61],\n",
              "       [29, 'Female', 40, 29, 31],\n",
              "       [30, 'Female', 23, 29, 87],\n",
              "       [31, 'Male', 60, 30, 4],\n",
              "       [32, 'Female', 21, 30, 73],\n",
              "       [33, 'Male', 53, 33, 4],\n",
              "       [34, 'Male', 18, 33, 92],\n",
              "       [35, 'Female', 49, 33, 14],\n",
              "       [36, 'Female', 21, 33, 81],\n",
              "       [37, 'Female', 42, 34, 17],\n",
              "       [38, 'Female', 30, 34, 73],\n",
              "       [39, 'Female', 36, 37, 26],\n",
              "       [40, 'Female', 20, 37, 75],\n",
              "       [41, 'Female', 65, 38, 35],\n",
              "       [42, 'Male', 24, 38, 92],\n",
              "       [43, 'Male', 48, 39, 36],\n",
              "       [44, 'Female', 31, 39, 61],\n",
              "       [45, 'Female', 49, 39, 28],\n",
              "       [46, 'Female', 24, 39, 65],\n",
              "       [47, 'Female', 50, 40, 55],\n",
              "       [48, 'Female', 27, 40, 47],\n",
              "       [49, 'Female', 29, 40, 42],\n",
              "       [50, 'Female', 31, 40, 42],\n",
              "       [51, 'Female', 49, 42, 52],\n",
              "       [52, 'Male', 33, 42, 60],\n",
              "       [53, 'Female', 31, 43, 54],\n",
              "       [54, 'Male', 59, 43, 60],\n",
              "       [55, 'Female', 50, 43, 45],\n",
              "       [56, 'Male', 47, 43, 41],\n",
              "       [57, 'Female', 51, 44, 50],\n",
              "       [58, 'Male', 69, 44, 46],\n",
              "       [59, 'Female', 27, 46, 51],\n",
              "       [60, 'Male', 53, 46, 46],\n",
              "       [61, 'Male', 70, 46, 56],\n",
              "       [62, 'Male', 19, 46, 55],\n",
              "       [63, 'Female', 67, 47, 52],\n",
              "       [64, 'Female', 54, 47, 59],\n",
              "       [65, 'Male', 63, 48, 51],\n",
              "       [66, 'Male', 18, 48, 59],\n",
              "       [67, 'Female', 43, 48, 50],\n",
              "       [68, 'Female', 68, 48, 48],\n",
              "       [69, 'Male', 19, 48, 59],\n",
              "       [70, 'Female', 32, 48, 47],\n",
              "       [71, 'Male', 70, 49, 55],\n",
              "       [72, 'Female', 47, 49, 42],\n",
              "       [73, 'Female', 60, 50, 49],\n",
              "       [74, 'Female', 60, 50, 56],\n",
              "       [75, 'Male', 59, 54, 47],\n",
              "       [76, 'Male', 26, 54, 54],\n",
              "       [77, 'Female', 45, 54, 53],\n",
              "       [78, 'Male', 40, 54, 48],\n",
              "       [79, 'Female', 23, 54, 52],\n",
              "       [80, 'Female', 49, 54, 42],\n",
              "       [81, 'Male', 57, 54, 51],\n",
              "       [82, 'Male', 38, 54, 55],\n",
              "       [83, 'Male', 67, 54, 41],\n",
              "       [84, 'Female', 46, 54, 44],\n",
              "       [85, 'Female', 21, 54, 57],\n",
              "       [86, 'Male', 48, 54, 46],\n",
              "       [87, 'Female', 55, 57, 58],\n",
              "       [88, 'Female', 22, 57, 55],\n",
              "       [89, 'Female', 34, 58, 60],\n",
              "       [90, 'Female', 50, 58, 46],\n",
              "       [91, 'Female', 68, 59, 55],\n",
              "       [92, 'Male', 18, 59, 41],\n",
              "       [93, 'Male', 48, 60, 49],\n",
              "       [94, 'Female', 40, 60, 40],\n",
              "       [95, 'Female', 32, 60, 42],\n",
              "       [96, 'Male', 24, 60, 52],\n",
              "       [97, 'Female', 47, 60, 47],\n",
              "       [98, 'Female', 27, 60, 50],\n",
              "       [99, 'Male', 48, 61, 42],\n",
              "       [100, 'Male', 20, 61, 49],\n",
              "       [101, 'Female', 23, 62, 41],\n",
              "       [102, 'Female', 49, 62, 48],\n",
              "       [103, 'Male', 67, 62, 59],\n",
              "       [104, 'Male', 26, 62, 55],\n",
              "       [105, 'Male', 49, 62, 56],\n",
              "       [106, 'Female', 21, 62, 42],\n",
              "       [107, 'Female', 66, 63, 50],\n",
              "       [108, 'Male', 54, 63, 46],\n",
              "       [109, 'Male', 68, 63, 43],\n",
              "       [110, 'Male', 66, 63, 48],\n",
              "       [111, 'Male', 65, 63, 52],\n",
              "       [112, 'Female', 19, 63, 54],\n",
              "       [113, 'Female', 38, 64, 42],\n",
              "       [114, 'Male', 19, 64, 46],\n",
              "       [115, 'Female', 18, 65, 48],\n",
              "       [116, 'Female', 19, 65, 50],\n",
              "       [117, 'Female', 63, 65, 43],\n",
              "       [118, 'Female', 49, 65, 59],\n",
              "       [119, 'Female', 51, 67, 43],\n",
              "       [120, 'Female', 50, 67, 57],\n",
              "       [121, 'Male', 27, 67, 56],\n",
              "       [122, 'Female', 38, 67, 40],\n",
              "       [123, 'Female', 40, 69, 58],\n",
              "       [124, 'Male', 39, 69, 91],\n",
              "       [125, 'Female', 23, 70, 29],\n",
              "       [126, 'Female', 31, 70, 77],\n",
              "       [127, 'Male', 43, 71, 35],\n",
              "       [128, 'Male', 40, 71, 95],\n",
              "       [129, 'Male', 59, 71, 11],\n",
              "       [130, 'Male', 38, 71, 75],\n",
              "       [131, 'Male', 47, 71, 9],\n",
              "       [132, 'Male', 39, 71, 75],\n",
              "       [133, 'Female', 25, 72, 34],\n",
              "       [134, 'Female', 31, 72, 71],\n",
              "       [135, 'Male', 20, 73, 5],\n",
              "       [136, 'Female', 29, 73, 88],\n",
              "       [137, 'Female', 44, 73, 7],\n",
              "       [138, 'Male', 32, 73, 73],\n",
              "       [139, 'Male', 19, 74, 10],\n",
              "       [140, 'Female', 35, 74, 72],\n",
              "       [141, 'Female', 57, 75, 5],\n",
              "       [142, 'Male', 32, 75, 93],\n",
              "       [143, 'Female', 28, 76, 40],\n",
              "       [144, 'Female', 32, 76, 87],\n",
              "       [145, 'Male', 25, 77, 12],\n",
              "       [146, 'Male', 28, 77, 97],\n",
              "       [147, 'Male', 48, 77, 36],\n",
              "       [148, 'Female', 32, 77, 74],\n",
              "       [149, 'Female', 34, 78, 22],\n",
              "       [150, 'Male', 34, 78, 90],\n",
              "       [151, 'Male', 43, 78, 17],\n",
              "       [152, 'Male', 39, 78, 88],\n",
              "       [153, 'Female', 44, 78, 20],\n",
              "       [154, 'Female', 38, 78, 76],\n",
              "       [155, 'Female', 47, 78, 16],\n",
              "       [156, 'Female', 27, 78, 89],\n",
              "       [157, 'Male', 37, 78, 1],\n",
              "       [158, 'Female', 30, 78, 78],\n",
              "       [159, 'Male', 34, 78, 1],\n",
              "       [160, 'Female', 30, 78, 73],\n",
              "       [161, 'Female', 56, 79, 35],\n",
              "       [162, 'Female', 29, 79, 83],\n",
              "       [163, 'Male', 19, 81, 5],\n",
              "       [164, 'Female', 31, 81, 93],\n",
              "       [165, 'Male', 50, 85, 26],\n",
              "       [166, 'Female', 36, 85, 75],\n",
              "       [167, 'Male', 42, 86, 20],\n",
              "       [168, 'Female', 33, 86, 95],\n",
              "       [169, 'Female', 36, 87, 27],\n",
              "       [170, 'Male', 32, 87, 63],\n",
              "       [171, 'Male', 40, 87, 13],\n",
              "       [172, 'Male', 28, 87, 75],\n",
              "       [173, 'Male', 36, 87, 10],\n",
              "       [174, 'Male', 36, 87, 92],\n",
              "       [175, 'Female', 52, 88, 13],\n",
              "       [176, 'Female', 30, 88, 86],\n",
              "       [177, 'Male', 58, 88, 15],\n",
              "       [178, 'Male', 27, 88, 69],\n",
              "       [179, 'Male', 59, 93, 14],\n",
              "       [180, 'Male', 35, 93, 90],\n",
              "       [181, 'Female', 37, 97, 32],\n",
              "       [182, 'Female', 32, 97, 86],\n",
              "       [183, 'Male', 46, 98, 15],\n",
              "       [184, 'Female', 29, 98, 88],\n",
              "       [185, 'Female', 41, 99, 39],\n",
              "       [186, 'Male', 30, 99, 97],\n",
              "       [187, 'Female', 54, 101, 24],\n",
              "       [188, 'Male', 28, 101, 68],\n",
              "       [189, 'Female', 41, 103, 17],\n",
              "       [190, 'Female', 36, 103, 85],\n",
              "       [191, 'Female', 34, 103, 23],\n",
              "       [192, 'Female', 32, 103, 69],\n",
              "       [193, 'Male', 33, 113, 8],\n",
              "       [194, 'Female', 38, 113, 91],\n",
              "       [195, 'Female', 47, 120, 16],\n",
              "       [196, 'Female', 35, 120, 79],\n",
              "       [197, 'Female', 45, 126, 28],\n",
              "       [198, 'Male', 32, 126, 74],\n",
              "       [199, 'Male', 32, 137, 18],\n",
              "       [200, 'Male', 30, 137, 83]], dtype=object)"
            ]
          },
          "metadata": {},
          "execution_count": 4
        }
      ]
    },
    {
      "cell_type": "code",
      "source": [
        "# Seleção do target (Dados de saída)\n",
        "# Com o método .iloc selecionamos (por índice) todas as linhas, apenas a coluna 14 (income)\n",
        "y = df.iloc[:, 3].values"
      ],
      "metadata": {
        "id": "LhZwmixLfvQu"
      },
      "execution_count": null,
      "outputs": []
    },
    {
      "cell_type": "code",
      "source": [
        "# Em Machine Learning, o \"Label Encoding\" é o processo de conversão\n",
        "# de variáveis categóricas em variáveis numéricas (inteiros).\n",
        "\n",
        "# Em nosso dataframe, as colunas com variáveis categóricas (e seus índices) são:\n",
        "# workclass (1), education (3), marital (5), occupation (6), relationship (7), race (8), sex (9) e country (13)\n",
        "\n",
        "# Criaremos variáveis com o nome das colunas e aplicaremos a transformação para cada uma deles com o LabelEncoder():\n",
        "le_workclass = LabelEncoder()\n",
        "le_education = LabelEncoder()\n",
        "le_marital = LabelEncoder()\n",
        "le_occupation = LabelEncoder()\n",
        "le_relationship = LabelEncoder()\n",
        "le_race = LabelEncoder()\n",
        "le_sex = LabelEncoder()\n",
        "le_country = LabelEncoder()"
      ],
      "metadata": {
        "id": "rjG5hM_Ef0r3"
      },
      "execution_count": null,
      "outputs": []
    },
    {
      "cell_type": "code",
      "source": [
        "# Usando o método .fit_transform aplicamos os novos valores transformados às colunas:\n",
        "X[:,1] = le_workclass.fit_transform(X[:,1])\n",
        "X[:,3] = le_education.fit_transform(X[:,3])\n"
      ],
      "metadata": {
        "id": "Ag9BYqh4f7T5"
      },
      "execution_count": null,
      "outputs": []
    },
    {
      "cell_type": "code",
      "source": [
        "X"
      ],
      "metadata": {
        "id": "fmptGzvIf_Bj",
        "colab": {
          "base_uri": "https://localhost:8080/"
        },
        "outputId": "be3b65c7-1f8c-48c3-9c93-b6cb2397355c"
      },
      "execution_count": null,
      "outputs": [
        {
          "output_type": "execute_result",
          "data": {
            "text/plain": [
              "array([[1, 1, 19, 0, 39],\n",
              "       [2, 1, 21, 0, 81],\n",
              "       [3, 0, 20, 1, 6],\n",
              "       [4, 0, 23, 1, 77],\n",
              "       [5, 0, 31, 2, 40],\n",
              "       [6, 0, 22, 2, 76],\n",
              "       [7, 0, 35, 3, 6],\n",
              "       [8, 0, 23, 3, 94],\n",
              "       [9, 1, 64, 4, 3],\n",
              "       [10, 0, 30, 4, 72],\n",
              "       [11, 1, 67, 4, 14],\n",
              "       [12, 0, 35, 4, 99],\n",
              "       [13, 0, 58, 5, 15],\n",
              "       [14, 0, 24, 5, 77],\n",
              "       [15, 1, 37, 5, 13],\n",
              "       [16, 1, 22, 5, 79],\n",
              "       [17, 0, 35, 6, 35],\n",
              "       [18, 1, 20, 6, 66],\n",
              "       [19, 1, 52, 7, 29],\n",
              "       [20, 0, 35, 7, 98],\n",
              "       [21, 1, 35, 8, 35],\n",
              "       [22, 1, 25, 8, 73],\n",
              "       [23, 0, 46, 9, 5],\n",
              "       [24, 1, 31, 9, 73],\n",
              "       [25, 0, 54, 10, 14],\n",
              "       [26, 1, 29, 10, 82],\n",
              "       [27, 0, 45, 10, 32],\n",
              "       [28, 1, 35, 10, 61],\n",
              "       [29, 0, 40, 11, 31],\n",
              "       [30, 0, 23, 11, 87],\n",
              "       [31, 1, 60, 12, 4],\n",
              "       [32, 0, 21, 12, 73],\n",
              "       [33, 1, 53, 13, 4],\n",
              "       [34, 1, 18, 13, 92],\n",
              "       [35, 0, 49, 13, 14],\n",
              "       [36, 0, 21, 13, 81],\n",
              "       [37, 0, 42, 14, 17],\n",
              "       [38, 0, 30, 14, 73],\n",
              "       [39, 0, 36, 15, 26],\n",
              "       [40, 0, 20, 15, 75],\n",
              "       [41, 0, 65, 16, 35],\n",
              "       [42, 1, 24, 16, 92],\n",
              "       [43, 1, 48, 17, 36],\n",
              "       [44, 0, 31, 17, 61],\n",
              "       [45, 0, 49, 17, 28],\n",
              "       [46, 0, 24, 17, 65],\n",
              "       [47, 0, 50, 18, 55],\n",
              "       [48, 0, 27, 18, 47],\n",
              "       [49, 0, 29, 18, 42],\n",
              "       [50, 0, 31, 18, 42],\n",
              "       [51, 0, 49, 19, 52],\n",
              "       [52, 1, 33, 19, 60],\n",
              "       [53, 0, 31, 20, 54],\n",
              "       [54, 1, 59, 20, 60],\n",
              "       [55, 0, 50, 20, 45],\n",
              "       [56, 1, 47, 20, 41],\n",
              "       [57, 0, 51, 21, 50],\n",
              "       [58, 1, 69, 21, 46],\n",
              "       [59, 0, 27, 22, 51],\n",
              "       [60, 1, 53, 22, 46],\n",
              "       [61, 1, 70, 22, 56],\n",
              "       [62, 1, 19, 22, 55],\n",
              "       [63, 0, 67, 23, 52],\n",
              "       [64, 0, 54, 23, 59],\n",
              "       [65, 1, 63, 24, 51],\n",
              "       [66, 1, 18, 24, 59],\n",
              "       [67, 0, 43, 24, 50],\n",
              "       [68, 0, 68, 24, 48],\n",
              "       [69, 1, 19, 24, 59],\n",
              "       [70, 0, 32, 24, 47],\n",
              "       [71, 1, 70, 25, 55],\n",
              "       [72, 0, 47, 25, 42],\n",
              "       [73, 0, 60, 26, 49],\n",
              "       [74, 0, 60, 26, 56],\n",
              "       [75, 1, 59, 27, 47],\n",
              "       [76, 1, 26, 27, 54],\n",
              "       [77, 0, 45, 27, 53],\n",
              "       [78, 1, 40, 27, 48],\n",
              "       [79, 0, 23, 27, 52],\n",
              "       [80, 0, 49, 27, 42],\n",
              "       [81, 1, 57, 27, 51],\n",
              "       [82, 1, 38, 27, 55],\n",
              "       [83, 1, 67, 27, 41],\n",
              "       [84, 0, 46, 27, 44],\n",
              "       [85, 0, 21, 27, 57],\n",
              "       [86, 1, 48, 27, 46],\n",
              "       [87, 0, 55, 28, 58],\n",
              "       [88, 0, 22, 28, 55],\n",
              "       [89, 0, 34, 29, 60],\n",
              "       [90, 0, 50, 29, 46],\n",
              "       [91, 0, 68, 30, 55],\n",
              "       [92, 1, 18, 30, 41],\n",
              "       [93, 1, 48, 31, 49],\n",
              "       [94, 0, 40, 31, 40],\n",
              "       [95, 0, 32, 31, 42],\n",
              "       [96, 1, 24, 31, 52],\n",
              "       [97, 0, 47, 31, 47],\n",
              "       [98, 0, 27, 31, 50],\n",
              "       [99, 1, 48, 32, 42],\n",
              "       [100, 1, 20, 32, 49],\n",
              "       [101, 0, 23, 33, 41],\n",
              "       [102, 0, 49, 33, 48],\n",
              "       [103, 1, 67, 33, 59],\n",
              "       [104, 1, 26, 33, 55],\n",
              "       [105, 1, 49, 33, 56],\n",
              "       [106, 0, 21, 33, 42],\n",
              "       [107, 0, 66, 34, 50],\n",
              "       [108, 1, 54, 34, 46],\n",
              "       [109, 1, 68, 34, 43],\n",
              "       [110, 1, 66, 34, 48],\n",
              "       [111, 1, 65, 34, 52],\n",
              "       [112, 0, 19, 34, 54],\n",
              "       [113, 0, 38, 35, 42],\n",
              "       [114, 1, 19, 35, 46],\n",
              "       [115, 0, 18, 36, 48],\n",
              "       [116, 0, 19, 36, 50],\n",
              "       [117, 0, 63, 36, 43],\n",
              "       [118, 0, 49, 36, 59],\n",
              "       [119, 0, 51, 37, 43],\n",
              "       [120, 0, 50, 37, 57],\n",
              "       [121, 1, 27, 37, 56],\n",
              "       [122, 0, 38, 37, 40],\n",
              "       [123, 0, 40, 38, 58],\n",
              "       [124, 1, 39, 38, 91],\n",
              "       [125, 0, 23, 39, 29],\n",
              "       [126, 0, 31, 39, 77],\n",
              "       [127, 1, 43, 40, 35],\n",
              "       [128, 1, 40, 40, 95],\n",
              "       [129, 1, 59, 40, 11],\n",
              "       [130, 1, 38, 40, 75],\n",
              "       [131, 1, 47, 40, 9],\n",
              "       [132, 1, 39, 40, 75],\n",
              "       [133, 0, 25, 41, 34],\n",
              "       [134, 0, 31, 41, 71],\n",
              "       [135, 1, 20, 42, 5],\n",
              "       [136, 0, 29, 42, 88],\n",
              "       [137, 0, 44, 42, 7],\n",
              "       [138, 1, 32, 42, 73],\n",
              "       [139, 1, 19, 43, 10],\n",
              "       [140, 0, 35, 43, 72],\n",
              "       [141, 0, 57, 44, 5],\n",
              "       [142, 1, 32, 44, 93],\n",
              "       [143, 0, 28, 45, 40],\n",
              "       [144, 0, 32, 45, 87],\n",
              "       [145, 1, 25, 46, 12],\n",
              "       [146, 1, 28, 46, 97],\n",
              "       [147, 1, 48, 46, 36],\n",
              "       [148, 0, 32, 46, 74],\n",
              "       [149, 0, 34, 47, 22],\n",
              "       [150, 1, 34, 47, 90],\n",
              "       [151, 1, 43, 47, 17],\n",
              "       [152, 1, 39, 47, 88],\n",
              "       [153, 0, 44, 47, 20],\n",
              "       [154, 0, 38, 47, 76],\n",
              "       [155, 0, 47, 47, 16],\n",
              "       [156, 0, 27, 47, 89],\n",
              "       [157, 1, 37, 47, 1],\n",
              "       [158, 0, 30, 47, 78],\n",
              "       [159, 1, 34, 47, 1],\n",
              "       [160, 0, 30, 47, 73],\n",
              "       [161, 0, 56, 48, 35],\n",
              "       [162, 0, 29, 48, 83],\n",
              "       [163, 1, 19, 49, 5],\n",
              "       [164, 0, 31, 49, 93],\n",
              "       [165, 1, 50, 50, 26],\n",
              "       [166, 0, 36, 50, 75],\n",
              "       [167, 1, 42, 51, 20],\n",
              "       [168, 0, 33, 51, 95],\n",
              "       [169, 0, 36, 52, 27],\n",
              "       [170, 1, 32, 52, 63],\n",
              "       [171, 1, 40, 52, 13],\n",
              "       [172, 1, 28, 52, 75],\n",
              "       [173, 1, 36, 52, 10],\n",
              "       [174, 1, 36, 52, 92],\n",
              "       [175, 0, 52, 53, 13],\n",
              "       [176, 0, 30, 53, 86],\n",
              "       [177, 1, 58, 53, 15],\n",
              "       [178, 1, 27, 53, 69],\n",
              "       [179, 1, 59, 54, 14],\n",
              "       [180, 1, 35, 54, 90],\n",
              "       [181, 0, 37, 55, 32],\n",
              "       [182, 0, 32, 55, 86],\n",
              "       [183, 1, 46, 56, 15],\n",
              "       [184, 0, 29, 56, 88],\n",
              "       [185, 0, 41, 57, 39],\n",
              "       [186, 1, 30, 57, 97],\n",
              "       [187, 0, 54, 58, 24],\n",
              "       [188, 1, 28, 58, 68],\n",
              "       [189, 0, 41, 59, 17],\n",
              "       [190, 0, 36, 59, 85],\n",
              "       [191, 0, 34, 59, 23],\n",
              "       [192, 0, 32, 59, 69],\n",
              "       [193, 1, 33, 60, 8],\n",
              "       [194, 0, 38, 60, 91],\n",
              "       [195, 0, 47, 61, 16],\n",
              "       [196, 0, 35, 61, 79],\n",
              "       [197, 0, 45, 62, 28],\n",
              "       [198, 1, 32, 62, 74],\n",
              "       [199, 1, 32, 63, 18],\n",
              "       [200, 1, 30, 63, 83]], dtype=object)"
            ]
          },
          "metadata": {},
          "execution_count": 10
        }
      ]
    },
    {
      "cell_type": "code",
      "source": [
        "# Padronização\n",
        "# É o redimensionamento dos recursos para criar um “padrão” garantindo\n",
        "# que os novos dados tenham média zero e desvio padrão igual a 1\n",
        "scaler = StandardScaler()\n",
        "\n",
        "# Salvando os novos dados já padronizados:\n",
        "X = scaler.fit_transform(X)"
      ],
      "metadata": {
        "id": "jdc5VIv8gCW7"
      },
      "execution_count": null,
      "outputs": []
    },
    {
      "cell_type": "code",
      "source": [
        "X"
      ],
      "metadata": {
        "id": "1kL1W76dgH1m",
        "colab": {
          "base_uri": "https://localhost:8080/"
        },
        "outputId": "5f20d978-2fe6-4064-ec92-461f81389532"
      },
      "execution_count": null,
      "outputs": [
        {
          "output_type": "execute_result",
          "data": {
            "text/plain": [
              "array([[-1.7234121 ,  1.12815215, -1.42456879, -1.88641296, -0.43480148],\n",
              "       [-1.70609137,  1.12815215, -1.28103541, -1.88641296,  1.19570407],\n",
              "       [-1.68877065, -0.88640526, -1.3528021 , -1.82738877, -1.71591298],\n",
              "       [-1.67144992, -0.88640526, -1.13750203, -1.82738877,  1.04041783],\n",
              "       [-1.6541292 , -0.88640526, -0.56336851, -1.76836459, -0.39597992],\n",
              "       [-1.63680847, -0.88640526, -1.20926872, -1.76836459,  1.00159627],\n",
              "       [-1.61948775, -0.88640526, -0.27630176, -1.7093404 , -1.71591298],\n",
              "       [-1.60216702, -0.88640526, -1.13750203, -1.7093404 ,  1.70038436],\n",
              "       [-1.5848463 ,  1.12815215,  1.80493225, -1.65031622, -1.83237767],\n",
              "       [-1.56752558, -0.88640526, -0.6351352 , -1.65031622,  0.84631002],\n",
              "       [-1.55020485,  1.12815215,  2.02023231, -1.65031622, -1.4053405 ],\n",
              "       [-1.53288413, -0.88640526, -0.27630176, -1.65031622,  1.89449216],\n",
              "       [-1.5155634 , -0.88640526,  1.37433211, -1.59129203, -1.36651894],\n",
              "       [-1.49824268, -0.88640526, -1.06573534, -1.59129203,  1.04041783],\n",
              "       [-1.48092195,  1.12815215, -0.13276838, -1.59129203, -1.44416206],\n",
              "       [-1.46360123,  1.12815215, -1.20926872, -1.59129203,  1.11806095],\n",
              "       [-1.4462805 , -0.88640526, -0.27630176, -1.53226784, -0.59008772],\n",
              "       [-1.42895978,  1.12815215, -1.3528021 , -1.53226784,  0.61338066],\n",
              "       [-1.41163905,  1.12815215,  0.94373197, -1.47324366, -0.82301709],\n",
              "       [-1.39431833, -0.88640526, -0.27630176, -1.47324366,  1.8556706 ],\n",
              "       [-1.3769976 ,  1.12815215, -0.27630176, -1.41421947, -0.59008772],\n",
              "       [-1.35967688,  1.12815215, -0.99396865, -1.41421947,  0.88513158],\n",
              "       [-1.34235616, -0.88640526,  0.51313183, -1.35519529, -1.75473454],\n",
              "       [-1.32503543,  1.12815215, -0.56336851, -1.35519529,  0.88513158],\n",
              "       [-1.30771471, -0.88640526,  1.08726535, -1.2961711 , -1.4053405 ],\n",
              "       [-1.29039398,  1.12815215, -0.70690189, -1.2961711 ,  1.23452563],\n",
              "       [-1.27307326, -0.88640526,  0.44136514, -1.2961711 , -0.7065524 ],\n",
              "       [-1.25575253,  1.12815215, -0.27630176, -1.2961711 ,  0.41927286],\n",
              "       [-1.23843181, -0.88640526,  0.08253169, -1.23714692, -0.74537397],\n",
              "       [-1.22111108, -0.88640526, -1.13750203, -1.23714692,  1.42863343],\n",
              "       [-1.20379036,  1.12815215,  1.51786549, -1.17812273, -1.7935561 ],\n",
              "       [-1.18646963, -0.88640526, -1.28103541, -1.17812273,  0.88513158],\n",
              "       [-1.16914891,  1.12815215,  1.01549866, -1.11909855, -1.7935561 ],\n",
              "       [-1.15182818,  1.12815215, -1.49633548, -1.11909855,  1.62274124],\n",
              "       [-1.13450746, -0.88640526,  0.7284319 , -1.11909855, -1.4053405 ],\n",
              "       [-1.11718674, -0.88640526, -1.28103541, -1.11909855,  1.19570407],\n",
              "       [-1.09986601, -0.88640526,  0.22606507, -1.06007436, -1.28887582],\n",
              "       [-1.08254529, -0.88640526, -0.6351352 , -1.06007436,  0.88513158],\n",
              "       [-1.06522456, -0.88640526, -0.20453507, -1.00105018, -0.93948177],\n",
              "       [-1.04790384, -0.88640526, -1.3528021 , -1.00105018,  0.96277471],\n",
              "       [-1.03058311, -0.88640526,  1.87669894, -0.94202599, -0.59008772],\n",
              "       [-1.01326239,  1.12815215, -1.06573534, -0.94202599,  1.62274124],\n",
              "       [-0.99594166,  1.12815215,  0.65666521, -0.88300181, -0.55126616],\n",
              "       [-0.97862094, -0.88640526, -0.56336851, -0.88300181,  0.41927286],\n",
              "       [-0.96130021, -0.88640526,  0.7284319 , -0.88300181, -0.86183865],\n",
              "       [-0.94397949, -0.88640526, -1.06573534, -0.88300181,  0.5745591 ],\n",
              "       [-0.92665877, -0.88640526,  0.80019859, -0.82397762,  0.18634349],\n",
              "       [-0.90933804, -0.88640526, -0.85043527, -0.82397762, -0.12422899],\n",
              "       [-0.89201732, -0.88640526, -0.70690189, -0.82397762, -0.3183368 ],\n",
              "       [-0.87469659, -0.88640526, -0.56336851, -0.82397762, -0.3183368 ],\n",
              "       [-0.85737587, -0.88640526,  0.7284319 , -0.76495344,  0.06987881],\n",
              "       [-0.84005514,  1.12815215, -0.41983513, -0.76495344,  0.38045129],\n",
              "       [-0.82273442, -0.88640526, -0.56336851, -0.70592925,  0.14752193],\n",
              "       [-0.80541369,  1.12815215,  1.4460988 , -0.70592925,  0.38045129],\n",
              "       [-0.78809297, -0.88640526,  0.80019859, -0.70592925, -0.20187212],\n",
              "       [-0.77077224,  1.12815215,  0.58489852, -0.70592925, -0.35715836],\n",
              "       [-0.75345152, -0.88640526,  0.87196528, -0.64690507, -0.00776431],\n",
              "       [-0.73613079,  1.12815215,  2.16376569, -0.64690507, -0.16305055],\n",
              "       [-0.71881007, -0.88640526, -0.85043527, -0.58788088,  0.03105725],\n",
              "       [-0.70148935,  1.12815215,  1.01549866, -0.58788088, -0.16305055],\n",
              "       [-0.68416862,  1.12815215,  2.23553238, -0.58788088,  0.22516505],\n",
              "       [-0.6668479 ,  1.12815215, -1.42456879, -0.58788088,  0.18634349],\n",
              "       [-0.64952717, -0.88640526,  2.02023231, -0.5288567 ,  0.06987881],\n",
              "       [-0.63220645, -0.88640526,  1.08726535, -0.5288567 ,  0.34162973],\n",
              "       [-0.61488572,  1.12815215,  1.73316556, -0.46983251,  0.03105725],\n",
              "       [-0.597565  ,  1.12815215, -1.49633548, -0.46983251,  0.34162973],\n",
              "       [-0.58024427, -0.88640526,  0.29783176, -0.46983251, -0.00776431],\n",
              "       [-0.56292355, -0.88640526,  2.091999  , -0.46983251, -0.08540743],\n",
              "       [-0.54560282,  1.12815215, -1.42456879, -0.46983251,  0.34162973],\n",
              "       [-0.5282821 , -0.88640526, -0.49160182, -0.46983251, -0.12422899],\n",
              "       [-0.51096138,  1.12815215,  2.23553238, -0.41080833,  0.18634349],\n",
              "       [-0.49364065, -0.88640526,  0.58489852, -0.41080833, -0.3183368 ],\n",
              "       [-0.47631993, -0.88640526,  1.51786549, -0.35178414, -0.04658587],\n",
              "       [-0.4589992 , -0.88640526,  1.51786549, -0.35178414,  0.22516505],\n",
              "       [-0.44167848,  1.12815215,  1.4460988 , -0.29275996, -0.12422899],\n",
              "       [-0.42435775,  1.12815215, -0.92220196, -0.29275996,  0.14752193],\n",
              "       [-0.40703703, -0.88640526,  0.44136514, -0.29275996,  0.10870037],\n",
              "       [-0.3897163 ,  1.12815215,  0.08253169, -0.29275996, -0.08540743],\n",
              "       [-0.37239558, -0.88640526, -1.13750203, -0.29275996,  0.06987881],\n",
              "       [-0.35507485, -0.88640526,  0.7284319 , -0.29275996, -0.3183368 ],\n",
              "       [-0.33775413,  1.12815215,  1.30256542, -0.29275996,  0.03105725],\n",
              "       [-0.3204334 ,  1.12815215, -0.06100169, -0.29275996,  0.18634349],\n",
              "       [-0.30311268,  1.12815215,  2.02023231, -0.29275996, -0.35715836],\n",
              "       [-0.28579196, -0.88640526,  0.51313183, -0.29275996, -0.24069368],\n",
              "       [-0.26847123, -0.88640526, -1.28103541, -0.29275996,  0.26398661],\n",
              "       [-0.25115051,  1.12815215,  0.65666521, -0.29275996, -0.16305055],\n",
              "       [-0.23382978, -0.88640526,  1.15903204, -0.23373577,  0.30280817],\n",
              "       [-0.21650906, -0.88640526, -1.20926872, -0.23373577,  0.18634349],\n",
              "       [-0.19918833, -0.88640526, -0.34806844, -0.17471159,  0.38045129],\n",
              "       [-0.18186761, -0.88640526,  0.80019859, -0.17471159, -0.16305055],\n",
              "       [-0.16454688, -0.88640526,  2.091999  , -0.1156874 ,  0.18634349],\n",
              "       [-0.14722616,  1.12815215, -1.49633548, -0.1156874 , -0.35715836],\n",
              "       [-0.12990543,  1.12815215,  0.65666521, -0.05666322, -0.04658587],\n",
              "       [-0.11258471, -0.88640526,  0.08253169, -0.05666322, -0.39597992],\n",
              "       [-0.09526399, -0.88640526, -0.49160182, -0.05666322, -0.3183368 ],\n",
              "       [-0.07794326,  1.12815215, -1.06573534, -0.05666322,  0.06987881],\n",
              "       [-0.06062254, -0.88640526,  0.58489852, -0.05666322, -0.12422899],\n",
              "       [-0.04330181, -0.88640526, -0.85043527, -0.05666322, -0.00776431],\n",
              "       [-0.02598109,  1.12815215,  0.65666521,  0.00236097, -0.3183368 ],\n",
              "       [-0.00866036,  1.12815215, -1.3528021 ,  0.00236097, -0.04658587],\n",
              "       [ 0.00866036, -0.88640526, -1.13750203,  0.06138515, -0.35715836],\n",
              "       [ 0.02598109, -0.88640526,  0.7284319 ,  0.06138515, -0.08540743],\n",
              "       [ 0.04330181,  1.12815215,  2.02023231,  0.06138515,  0.34162973],\n",
              "       [ 0.06062254,  1.12815215, -0.92220196,  0.06138515,  0.18634349],\n",
              "       [ 0.07794326,  1.12815215,  0.7284319 ,  0.06138515,  0.22516505],\n",
              "       [ 0.09526399, -0.88640526, -1.28103541,  0.06138515, -0.3183368 ],\n",
              "       [ 0.11258471, -0.88640526,  1.94846562,  0.12040934, -0.00776431],\n",
              "       [ 0.12990543,  1.12815215,  1.08726535,  0.12040934, -0.16305055],\n",
              "       [ 0.14722616,  1.12815215,  2.091999  ,  0.12040934, -0.27951524],\n",
              "       [ 0.16454688,  1.12815215,  1.94846562,  0.12040934, -0.08540743],\n",
              "       [ 0.18186761,  1.12815215,  1.87669894,  0.12040934,  0.06987881],\n",
              "       [ 0.19918833, -0.88640526, -1.42456879,  0.12040934,  0.14752193],\n",
              "       [ 0.21650906, -0.88640526, -0.06100169,  0.17943352, -0.3183368 ],\n",
              "       [ 0.23382978,  1.12815215, -1.42456879,  0.17943352, -0.16305055],\n",
              "       [ 0.25115051, -0.88640526, -1.49633548,  0.23845771, -0.08540743],\n",
              "       [ 0.26847123, -0.88640526, -1.42456879,  0.23845771, -0.00776431],\n",
              "       [ 0.28579196, -0.88640526,  1.73316556,  0.23845771, -0.27951524],\n",
              "       [ 0.30311268, -0.88640526,  0.7284319 ,  0.23845771,  0.34162973],\n",
              "       [ 0.3204334 , -0.88640526,  0.87196528,  0.29748189, -0.27951524],\n",
              "       [ 0.33775413, -0.88640526,  0.80019859,  0.29748189,  0.26398661],\n",
              "       [ 0.35507485,  1.12815215, -0.85043527,  0.29748189,  0.22516505],\n",
              "       [ 0.37239558, -0.88640526, -0.06100169,  0.29748189, -0.39597992],\n",
              "       [ 0.3897163 , -0.88640526,  0.08253169,  0.35650608,  0.30280817],\n",
              "       [ 0.40703703,  1.12815215,  0.010765  ,  0.35650608,  1.58391968],\n",
              "       [ 0.42435775, -0.88640526, -1.13750203,  0.41553026, -0.82301709],\n",
              "       [ 0.44167848, -0.88640526, -0.56336851,  0.41553026,  1.04041783],\n",
              "       [ 0.4589992 ,  1.12815215,  0.29783176,  0.47455445, -0.59008772],\n",
              "       [ 0.47631993,  1.12815215,  0.08253169,  0.47455445,  1.73920592],\n",
              "       [ 0.49364065,  1.12815215,  1.4460988 ,  0.47455445, -1.52180518],\n",
              "       [ 0.51096138,  1.12815215, -0.06100169,  0.47455445,  0.96277471],\n",
              "       [ 0.5282821 ,  1.12815215,  0.58489852,  0.47455445, -1.5994483 ],\n",
              "       [ 0.54560282,  1.12815215,  0.010765  ,  0.47455445,  0.96277471],\n",
              "       [ 0.56292355, -0.88640526, -0.99396865,  0.53357863, -0.62890928],\n",
              "       [ 0.58024427, -0.88640526, -0.56336851,  0.53357863,  0.80748846],\n",
              "       [ 0.597565  ,  1.12815215, -1.3528021 ,  0.59260282, -1.75473454],\n",
              "       [ 0.61488572, -0.88640526, -0.70690189,  0.59260282,  1.46745499],\n",
              "       [ 0.63220645, -0.88640526,  0.36959845,  0.59260282, -1.67709142],\n",
              "       [ 0.64952717,  1.12815215, -0.49160182,  0.59260282,  0.88513158],\n",
              "       [ 0.6668479 ,  1.12815215, -1.42456879,  0.651627  , -1.56062674],\n",
              "       [ 0.68416862, -0.88640526, -0.27630176,  0.651627  ,  0.84631002],\n",
              "       [ 0.70148935, -0.88640526,  1.30256542,  0.71065119, -1.75473454],\n",
              "       [ 0.71881007,  1.12815215, -0.49160182,  0.71065119,  1.6615628 ],\n",
              "       [ 0.73613079, -0.88640526, -0.77866858,  0.76967537, -0.39597992],\n",
              "       [ 0.75345152, -0.88640526, -0.49160182,  0.76967537,  1.42863343],\n",
              "       [ 0.77077224,  1.12815215, -0.99396865,  0.82869956, -1.48298362],\n",
              "       [ 0.78809297,  1.12815215, -0.77866858,  0.82869956,  1.81684904],\n",
              "       [ 0.80541369,  1.12815215,  0.65666521,  0.82869956, -0.55126616],\n",
              "       [ 0.82273442, -0.88640526, -0.49160182,  0.82869956,  0.92395314],\n",
              "       [ 0.84005514, -0.88640526, -0.34806844,  0.88772374, -1.09476801],\n",
              "       [ 0.85737587,  1.12815215, -0.34806844,  0.88772374,  1.54509812],\n",
              "       [ 0.87469659,  1.12815215,  0.29783176,  0.88772374, -1.28887582],\n",
              "       [ 0.89201732,  1.12815215,  0.010765  ,  0.88772374,  1.46745499],\n",
              "       [ 0.90933804, -0.88640526,  0.36959845,  0.88772374, -1.17241113],\n",
              "       [ 0.92665877, -0.88640526, -0.06100169,  0.88772374,  1.00159627],\n",
              "       [ 0.94397949, -0.88640526,  0.58489852,  0.88772374, -1.32769738],\n",
              "       [ 0.96130021, -0.88640526, -0.85043527,  0.88772374,  1.50627656],\n",
              "       [ 0.97862094,  1.12815215, -0.13276838,  0.88772374, -1.91002079],\n",
              "       [ 0.99594166, -0.88640526, -0.6351352 ,  0.88772374,  1.07923939],\n",
              "       [ 1.01326239,  1.12815215, -0.34806844,  0.88772374, -1.91002079],\n",
              "       [ 1.03058311, -0.88640526, -0.6351352 ,  0.88772374,  0.88513158],\n",
              "       [ 1.04790384, -0.88640526,  1.23079873,  0.94674793, -0.59008772],\n",
              "       [ 1.06522456, -0.88640526, -0.70690189,  0.94674793,  1.27334719],\n",
              "       [ 1.08254529,  1.12815215, -1.42456879,  1.00577211, -1.75473454],\n",
              "       [ 1.09986601, -0.88640526, -0.56336851,  1.00577211,  1.6615628 ],\n",
              "       [ 1.11718674,  1.12815215,  0.80019859,  1.0647963 , -0.93948177],\n",
              "       [ 1.13450746, -0.88640526, -0.20453507,  1.0647963 ,  0.96277471],\n",
              "       [ 1.15182818,  1.12815215,  0.22606507,  1.12382048, -1.17241113],\n",
              "       [ 1.16914891, -0.88640526, -0.41983513,  1.12382048,  1.73920592],\n",
              "       [ 1.18646963, -0.88640526, -0.20453507,  1.18284467, -0.90066021],\n",
              "       [ 1.20379036,  1.12815215, -0.49160182,  1.18284467,  0.49691598],\n",
              "       [ 1.22111108,  1.12815215,  0.08253169,  1.18284467, -1.44416206],\n",
              "       [ 1.23843181,  1.12815215, -0.77866858,  1.18284467,  0.96277471],\n",
              "       [ 1.25575253,  1.12815215, -0.20453507,  1.18284467, -1.56062674],\n",
              "       [ 1.27307326,  1.12815215, -0.20453507,  1.18284467,  1.62274124],\n",
              "       [ 1.29039398, -0.88640526,  0.94373197,  1.24186885, -1.44416206],\n",
              "       [ 1.30771471, -0.88640526, -0.6351352 ,  1.24186885,  1.38981187],\n",
              "       [ 1.32503543,  1.12815215,  1.37433211,  1.24186885, -1.36651894],\n",
              "       [ 1.34235616,  1.12815215, -0.85043527,  1.24186885,  0.72984534],\n",
              "       [ 1.35967688,  1.12815215,  1.4460988 ,  1.30089304, -1.4053405 ],\n",
              "       [ 1.3769976 ,  1.12815215, -0.27630176,  1.30089304,  1.54509812],\n",
              "       [ 1.39431833, -0.88640526, -0.13276838,  1.35991722, -0.7065524 ],\n",
              "       [ 1.41163905, -0.88640526, -0.49160182,  1.35991722,  1.38981187],\n",
              "       [ 1.42895978,  1.12815215,  0.51313183,  1.41894141, -1.36651894],\n",
              "       [ 1.4462805 , -0.88640526, -0.70690189,  1.41894141,  1.46745499],\n",
              "       [ 1.46360123, -0.88640526,  0.15429838,  1.47796559, -0.43480148],\n",
              "       [ 1.48092195,  1.12815215, -0.6351352 ,  1.47796559,  1.81684904],\n",
              "       [ 1.49824268, -0.88640526,  1.08726535,  1.53698978, -1.01712489],\n",
              "       [ 1.5155634 ,  1.12815215, -0.77866858,  1.53698978,  0.69102378],\n",
              "       [ 1.53288413, -0.88640526,  0.15429838,  1.59601396, -1.28887582],\n",
              "       [ 1.55020485, -0.88640526, -0.20453507,  1.59601396,  1.35099031],\n",
              "       [ 1.56752558, -0.88640526, -0.34806844,  1.59601396, -1.05594645],\n",
              "       [ 1.5848463 , -0.88640526, -0.49160182,  1.59601396,  0.72984534],\n",
              "       [ 1.60216702,  1.12815215, -0.41983513,  1.65503815, -1.63826986],\n",
              "       [ 1.61948775, -0.88640526, -0.06100169,  1.65503815,  1.58391968],\n",
              "       [ 1.63680847, -0.88640526,  0.58489852,  1.71406233, -1.32769738],\n",
              "       [ 1.6541292 , -0.88640526, -0.27630176,  1.71406233,  1.11806095],\n",
              "       [ 1.67144992, -0.88640526,  0.44136514,  1.77308652, -0.86183865],\n",
              "       [ 1.68877065,  1.12815215, -0.49160182,  1.77308652,  0.92395314],\n",
              "       [ 1.70609137,  1.12815215, -0.49160182,  1.83211071, -1.25005425],\n",
              "       [ 1.7234121 ,  1.12815215, -0.6351352 ,  1.83211071,  1.27334719]])"
            ]
          },
          "metadata": {},
          "execution_count": 12
        }
      ]
    },
    {
      "cell_type": "code",
      "source": [
        "# Com o método train_test_split separamos os dados em treino e teste:\n",
        "# X_treino e y_treino: dados para treinamento dos modelos (80% dos dados iniciais)\n",
        "# X_teste e y_teste: dados para teste e avaliação dos modelos (20% dos dados iniciais)\n",
        "\n",
        "X_treino, X_teste, y_treino, y_teste = train_test_split(X, y, test_size=0.20)"
      ],
      "metadata": {
        "id": "GRYXDQPngKM_"
      },
      "execution_count": null,
      "outputs": []
    },
    {
      "cell_type": "code",
      "source": [
        "X_treino.shape, X_teste.shape"
      ],
      "metadata": {
        "id": "zujBwX-1gPnf",
        "colab": {
          "base_uri": "https://localhost:8080/"
        },
        "outputId": "bf7ee31b-9efa-4e78-b231-e7088090bfd9"
      },
      "execution_count": null,
      "outputs": [
        {
          "output_type": "execute_result",
          "data": {
            "text/plain": [
              "((160, 5), (40, 5))"
            ]
          },
          "metadata": {},
          "execution_count": 14
        }
      ]
    },
    {
      "cell_type": "markdown",
      "metadata": {
        "id": "6OurC4GyUoak"
      },
      "source": [
        "## Parte 3: Aplicação do algoritmo PCA (Principal component analysis)"
      ]
    },
    {
      "cell_type": "code",
      "execution_count": null,
      "metadata": {
        "id": "ZmpO8urpX8kz"
      },
      "outputs": [],
      "source": [
        "# Criamos a variável pca e aplicamos o algoritmo PCA para a redução do número original de colunas para\n",
        "# um número definido \"p\"\n",
        "# O hiperparâmetro \"n_components\" recebe o valor definido de novas colunas (p)\n",
        "p = 3\n",
        "pca = PCA(n_components=p)"
      ]
    },
    {
      "cell_type": "code",
      "execution_count": null,
      "metadata": {
        "id": "zVHnZ8rYYOeL"
      },
      "outputs": [],
      "source": [
        "# Definimos novas variáveis de treino e testes (agora com um menor números de colunas)\n",
        "X_treino_pca = pca.fit_transform(X_treino)\n",
        "X_teste_pca = pca.transform(X_teste)"
      ]
    },
    {
      "cell_type": "code",
      "execution_count": null,
      "metadata": {
        "id": "5Ouz2wdFYkJh",
        "colab": {
          "base_uri": "https://localhost:8080/"
        },
        "outputId": "13ba28b3-ded8-488b-ee6d-92248ac7fca5"
      },
      "outputs": [
        {
          "output_type": "execute_result",
          "data": {
            "text/plain": [
              "((160, 3), (40, 3))"
            ]
          },
          "metadata": {},
          "execution_count": 19
        }
      ],
      "source": [
        "X_treino_pca.shape, X_teste_pca.shape"
      ]
    },
    {
      "cell_type": "code",
      "execution_count": null,
      "metadata": {
        "id": "hdBAi-piY28x",
        "colab": {
          "base_uri": "https://localhost:8080/"
        },
        "outputId": "9ba319a2-2b4a-4c11-984c-152a9a830912"
      },
      "outputs": [
        {
          "output_type": "execute_result",
          "data": {
            "text/plain": [
              "array([0.40259196, 0.26922933, 0.19365315])"
            ]
          },
          "metadata": {},
          "execution_count": 20
        }
      ],
      "source": [
        "# O método \"explained_variance_ratio\" permite calcular a\n",
        "# porcentagem de variância dos dados que consegue ser explicada por cada um dos componentes selecionados\n",
        "\n",
        "# Relembrando! :-)\n",
        "# A variância, assim como o desvio padrão, é uma das medidas de dispersão de dados\n",
        "# que mostra o comportamento dos dados de uma amostra em relação a uma medida central (por exemplo, a média)\n",
        "\n",
        "pca.explained_variance_ratio_"
      ]
    },
    {
      "cell_type": "code",
      "execution_count": null,
      "metadata": {
        "id": "lBxPFP0VZR1I",
        "colab": {
          "base_uri": "https://localhost:8080/"
        },
        "outputId": "6cfbfbff-cd4d-4cdf-d133-b7f8b59c2572"
      },
      "outputs": [
        {
          "output_type": "stream",
          "name": "stdout",
          "text": [
            "O modelo PCA com 3 variáveis explica 86.55 % dos dados de entrada\n"
          ]
        }
      ],
      "source": [
        "# Somando os percentuais conseguimos ver o quanto nosso\n",
        "# modelo PCA conseguiu explicar dos dados de entrada\n",
        "total_variancia = pca.explained_variance_ratio_.sum()\n",
        "print(f'O modelo PCA com {p} variáveis explica{100*(total_variancia): .2f} % dos dados de entrada')"
      ]
    },
    {
      "cell_type": "markdown",
      "source": [
        "# Parte 4: Aplicando os novos dados gerados em um modelo de classificação."
      ],
      "metadata": {
        "id": "GHyjEUMJOTJv"
      }
    },
    {
      "cell_type": "markdown",
      "source": [
        "Utilizaremos o algoritmo de classificação Random Forest com base nos novos dados, após a aplicação da técnica de redução de dimensionalidade."
      ],
      "metadata": {
        "id": "HTuaKv4_x6eN"
      }
    },
    {
      "cell_type": "code",
      "execution_count": null,
      "metadata": {
        "id": "icbXkzMbaNu0"
      },
      "outputs": [],
      "source": [
        "# Instanciando o objeto do classificador\n",
        "modelo_rf = RandomForestClassifier(n_estimators=40, random_state=0)"
      ]
    },
    {
      "cell_type": "code",
      "source": [
        "# Usando o método .fit para treinar o modelo\n",
        "\n",
        "# Com base nos dados de treino iniciais:\n",
        "modelo_rf.fit(X_treino, y_treino)\n",
        "\n",
        "# Com base nos dados de treino gerados após a aplicação do algoritmo PCA:\n",
        "# modelo_rf.fit(X_treino_pca, y_treino)"
      ],
      "metadata": {
        "id": "Z4rFYXXmYJbG",
        "colab": {
          "base_uri": "https://localhost:8080/",
          "height": 75
        },
        "outputId": "ccc7a6e1-8343-4d85-8a79-2353ac75201e"
      },
      "execution_count": null,
      "outputs": [
        {
          "output_type": "execute_result",
          "data": {
            "text/plain": [
              "RandomForestClassifier(n_estimators=40, random_state=0)"
            ],
            "text/html": [
              "<style>#sk-container-id-1 {color: black;background-color: white;}#sk-container-id-1 pre{padding: 0;}#sk-container-id-1 div.sk-toggleable {background-color: white;}#sk-container-id-1 label.sk-toggleable__label {cursor: pointer;display: block;width: 100%;margin-bottom: 0;padding: 0.3em;box-sizing: border-box;text-align: center;}#sk-container-id-1 label.sk-toggleable__label-arrow:before {content: \"▸\";float: left;margin-right: 0.25em;color: #696969;}#sk-container-id-1 label.sk-toggleable__label-arrow:hover:before {color: black;}#sk-container-id-1 div.sk-estimator:hover label.sk-toggleable__label-arrow:before {color: black;}#sk-container-id-1 div.sk-toggleable__content {max-height: 0;max-width: 0;overflow: hidden;text-align: left;background-color: #f0f8ff;}#sk-container-id-1 div.sk-toggleable__content pre {margin: 0.2em;color: black;border-radius: 0.25em;background-color: #f0f8ff;}#sk-container-id-1 input.sk-toggleable__control:checked~div.sk-toggleable__content {max-height: 200px;max-width: 100%;overflow: auto;}#sk-container-id-1 input.sk-toggleable__control:checked~label.sk-toggleable__label-arrow:before {content: \"▾\";}#sk-container-id-1 div.sk-estimator input.sk-toggleable__control:checked~label.sk-toggleable__label {background-color: #d4ebff;}#sk-container-id-1 div.sk-label input.sk-toggleable__control:checked~label.sk-toggleable__label {background-color: #d4ebff;}#sk-container-id-1 input.sk-hidden--visually {border: 0;clip: rect(1px 1px 1px 1px);clip: rect(1px, 1px, 1px, 1px);height: 1px;margin: -1px;overflow: hidden;padding: 0;position: absolute;width: 1px;}#sk-container-id-1 div.sk-estimator {font-family: monospace;background-color: #f0f8ff;border: 1px dotted black;border-radius: 0.25em;box-sizing: border-box;margin-bottom: 0.5em;}#sk-container-id-1 div.sk-estimator:hover {background-color: #d4ebff;}#sk-container-id-1 div.sk-parallel-item::after {content: \"\";width: 100%;border-bottom: 1px solid gray;flex-grow: 1;}#sk-container-id-1 div.sk-label:hover label.sk-toggleable__label {background-color: #d4ebff;}#sk-container-id-1 div.sk-serial::before {content: \"\";position: absolute;border-left: 1px solid gray;box-sizing: border-box;top: 0;bottom: 0;left: 50%;z-index: 0;}#sk-container-id-1 div.sk-serial {display: flex;flex-direction: column;align-items: center;background-color: white;padding-right: 0.2em;padding-left: 0.2em;position: relative;}#sk-container-id-1 div.sk-item {position: relative;z-index: 1;}#sk-container-id-1 div.sk-parallel {display: flex;align-items: stretch;justify-content: center;background-color: white;position: relative;}#sk-container-id-1 div.sk-item::before, #sk-container-id-1 div.sk-parallel-item::before {content: \"\";position: absolute;border-left: 1px solid gray;box-sizing: border-box;top: 0;bottom: 0;left: 50%;z-index: -1;}#sk-container-id-1 div.sk-parallel-item {display: flex;flex-direction: column;z-index: 1;position: relative;background-color: white;}#sk-container-id-1 div.sk-parallel-item:first-child::after {align-self: flex-end;width: 50%;}#sk-container-id-1 div.sk-parallel-item:last-child::after {align-self: flex-start;width: 50%;}#sk-container-id-1 div.sk-parallel-item:only-child::after {width: 0;}#sk-container-id-1 div.sk-dashed-wrapped {border: 1px dashed gray;margin: 0 0.4em 0.5em 0.4em;box-sizing: border-box;padding-bottom: 0.4em;background-color: white;}#sk-container-id-1 div.sk-label label {font-family: monospace;font-weight: bold;display: inline-block;line-height: 1.2em;}#sk-container-id-1 div.sk-label-container {text-align: center;}#sk-container-id-1 div.sk-container {/* jupyter's `normalize.less` sets `[hidden] { display: none; }` but bootstrap.min.css set `[hidden] { display: none !important; }` so we also need the `!important` here to be able to override the default hidden behavior on the sphinx rendered scikit-learn.org. See: https://github.com/scikit-learn/scikit-learn/issues/21755 */display: inline-block !important;position: relative;}#sk-container-id-1 div.sk-text-repr-fallback {display: none;}</style><div id=\"sk-container-id-1\" class=\"sk-top-container\"><div class=\"sk-text-repr-fallback\"><pre>RandomForestClassifier(n_estimators=40, random_state=0)</pre><b>In a Jupyter environment, please rerun this cell to show the HTML representation or trust the notebook. <br />On GitHub, the HTML representation is unable to render, please try loading this page with nbviewer.org.</b></div><div class=\"sk-container\" hidden><div class=\"sk-item\"><div class=\"sk-estimator sk-toggleable\"><input class=\"sk-toggleable__control sk-hidden--visually\" id=\"sk-estimator-id-1\" type=\"checkbox\" checked><label for=\"sk-estimator-id-1\" class=\"sk-toggleable__label sk-toggleable__label-arrow\">RandomForestClassifier</label><div class=\"sk-toggleable__content\"><pre>RandomForestClassifier(n_estimators=40, random_state=0)</pre></div></div></div></div></div>"
            ]
          },
          "metadata": {},
          "execution_count": 23
        }
      ]
    },
    {
      "cell_type": "code",
      "execution_count": null,
      "metadata": {
        "id": "B4b0SxRvacc1"
      },
      "outputs": [],
      "source": [
        "# Usando o método .predict para estimar os resultados\n",
        "\n",
        "# Realizando as previsões com base nos dados de teste iniciais\n",
        "previsoes = modelo_rf.predict(X_teste)\n",
        "\n",
        "# Realizando as previsões com base nos dados de teste após a aplicação do algoritmo PCA\n",
        "# previsoes = modelo_rf.predict(X_teste_pca)\n"
      ]
    },
    {
      "cell_type": "code",
      "source": [
        "previsoes"
      ],
      "metadata": {
        "id": "ugsXlY5QbmRD",
        "colab": {
          "base_uri": "https://localhost:8080/"
        },
        "outputId": "60813d7b-4aef-44cd-9dce-7ff6c17660e1"
      },
      "execution_count": null,
      "outputs": [
        {
          "output_type": "execute_result",
          "data": {
            "text/plain": [
              "array([ 54,  17,  46,  20,  62,  87,  37,  76,  67,  60,  63,  34,  78,\n",
              "        46,  71,  39,  20,  97,  62,  72,  63,  43,  88,  88,  20,  19,\n",
              "        62,  67,  98,  65,  88,  28, 120,  29,  50,  73,  54,  28,  54,\n",
              "        48])"
            ]
          },
          "metadata": {},
          "execution_count": 25
        }
      ]
    },
    {
      "cell_type": "code",
      "execution_count": null,
      "metadata": {
        "id": "L8TTOcS0ai60",
        "colab": {
          "base_uri": "https://localhost:8080/"
        },
        "outputId": "998fb52a-d3b4-4f9c-fd62-e3ea5803a18b"
      },
      "outputs": [
        {
          "output_type": "execute_result",
          "data": {
            "text/plain": [
              "array([ 54,  18,  44,  23,  62,  87,  33,  76,  69,  60,  64,  37,  78,\n",
              "        47,  71,  39,  21,  93,  62,  72,  63,  43,  88,  93,  21,  19,\n",
              "        61,  67,  99,  65,  88,  24, 126,  30,  50,  73,  54,  25,  54,\n",
              "        48])"
            ]
          },
          "metadata": {},
          "execution_count": 26
        }
      ],
      "source": [
        "y_teste"
      ]
    },
    {
      "cell_type": "code",
      "execution_count": null,
      "metadata": {
        "id": "p585sPd2aoXI",
        "colab": {
          "base_uri": "https://localhost:8080/"
        },
        "outputId": "e4217ded-0799-487f-e11a-37c051205cd8"
      },
      "outputs": [
        {
          "output_type": "stream",
          "name": "stdout",
          "text": [
            "A acurácia do modelo Random Forest é de: 55.00 %\n"
          ]
        }
      ],
      "source": [
        "# Calculando a acurácia do modelo de classificação:\n",
        "acuracia = accuracy_score(y_teste, previsoes)\n",
        "print(f'A acurácia do modelo Random Forest é de:{(100*acuracia): .2f} %')\n",
        "\n",
        "# Sugestão de leitura:\n",
        "# Métricas de avaliação de modelos de aprendizado de máquina:\n",
        "# https://mariofilho.com/as-metricas-mais-populares-para-avaliar-modelos-de-machine-learning/"
      ]
    }
  ]
}